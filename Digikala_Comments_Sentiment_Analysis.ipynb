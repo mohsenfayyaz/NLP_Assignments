{
  "nbformat": 4,
  "nbformat_minor": 0,
  "metadata": {
    "colab": {
      "name": "Digikala_Comments_Sentiment_Analysis.ipynb",
      "provenance": [],
      "collapsed_sections": [],
      "toc_visible": true,
      "include_colab_link": true
    },
    "kernelspec": {
      "name": "python3",
      "display_name": "Python 3"
    },
    "accelerator": "TPU"
  },
  "cells": [
    {
      "cell_type": "markdown",
      "metadata": {
        "id": "view-in-github",
        "colab_type": "text"
      },
      "source": [
        "<a href=\"https://colab.research.google.com/github/mohsenfayyaz/NLP_Assignments/blob/master/Digikala_Comments_Sentiment_Analysis.ipynb\" target=\"_parent\"><img src=\"https://colab.research.google.com/assets/colab-badge.svg\" alt=\"Open In Colab\"/></a>"
      ]
    },
    {
      "cell_type": "code",
      "metadata": {
        "id": "7pRwyGM3TMMi",
        "colab_type": "code",
        "colab": {
          "base_uri": "https://localhost:8080/",
          "height": 35
        },
        "outputId": "aecaac2d-f89a-4595-c758-24afe746affd"
      },
      "source": [
        "from google.colab import drive\n",
        "drive.mount('/content/drive')"
      ],
      "execution_count": 21,
      "outputs": [
        {
          "output_type": "stream",
          "text": [
            "Drive already mounted at /content/drive; to attempt to forcibly remount, call drive.mount(\"/content/drive\", force_remount=True).\n"
          ],
          "name": "stdout"
        }
      ]
    },
    {
      "cell_type": "code",
      "metadata": {
        "id": "YST3-W1yrz-V",
        "colab_type": "code",
        "colab": {}
      },
      "source": [
        "SENTENCE_MAX_LEN = 70"
      ],
      "execution_count": 22,
      "outputs": []
    },
    {
      "cell_type": "code",
      "metadata": {
        "id": "gPfDroLVUkLc",
        "colab_type": "code",
        "colab": {
          "base_uri": "https://localhost:8080/",
          "height": 225
        },
        "outputId": "eaabba32-e9df-42be-a6cc-df3f839a5b78"
      },
      "source": [
        "import pandas as pd\n",
        "import numpy as np\n",
        "import math as math\n",
        "import matplotlib.pyplot as plt\n",
        "from tensorflow.keras.preprocessing.text import Tokenizer\n",
        "from tensorflow.keras.preprocessing.sequence import pad_sequences\n",
        "\n",
        "data = pd.read_csv('/content/drive/My Drive/Colab Notebooks/NLP/datasets/Digikal_Data.csv')\n",
        "print(data.shape)\n",
        "data.head()"
      ],
      "execution_count": 23,
      "outputs": [
        {
          "output_type": "stream",
          "text": [
            "(3261, 3)\n"
          ],
          "name": "stdout"
        },
        {
          "output_type": "execute_result",
          "data": {
            "text/html": [
              "<div>\n",
              "<style scoped>\n",
              "    .dataframe tbody tr th:only-of-type {\n",
              "        vertical-align: middle;\n",
              "    }\n",
              "\n",
              "    .dataframe tbody tr th {\n",
              "        vertical-align: top;\n",
              "    }\n",
              "\n",
              "    .dataframe thead th {\n",
              "        text-align: right;\n",
              "    }\n",
              "</style>\n",
              "<table border=\"1\" class=\"dataframe\">\n",
              "  <thead>\n",
              "    <tr style=\"text-align: right;\">\n",
              "      <th></th>\n",
              "      <th>Text</th>\n",
              "      <th>Score</th>\n",
              "      <th>Suggestion</th>\n",
              "    </tr>\n",
              "  </thead>\n",
              "  <tbody>\n",
              "    <tr>\n",
              "      <th>0</th>\n",
              "      <td>این اولین تجربه من برای خرید ایفون هست   امروز...</td>\n",
              "      <td>100</td>\n",
              "      <td>1</td>\n",
              "    </tr>\n",
              "    <tr>\n",
              "      <th>1</th>\n",
              "      <td>خرید این محصول رو توصیه میکنم</td>\n",
              "      <td>84</td>\n",
              "      <td>1</td>\n",
              "    </tr>\n",
              "    <tr>\n",
              "      <th>2</th>\n",
              "      <td>1 ساله این گوشی رو دارم   هیچ نقطه ضعفی ازش ند...</td>\n",
              "      <td>60</td>\n",
              "      <td>1</td>\n",
              "    </tr>\n",
              "    <tr>\n",
              "      <th>3</th>\n",
              "      <td>سلام خدمت دوستان این گوشی از همه نظر عالی  کیف...</td>\n",
              "      <td>96</td>\n",
              "      <td>1</td>\n",
              "    </tr>\n",
              "    <tr>\n",
              "      <th>4</th>\n",
              "      <td>سلام دوستانی که نگران شکستن صفحه نمایش هستند ا...</td>\n",
              "      <td>92</td>\n",
              "      <td>1</td>\n",
              "    </tr>\n",
              "  </tbody>\n",
              "</table>\n",
              "</div>"
            ],
            "text/plain": [
              "                                                Text  Score  Suggestion\n",
              "0  این اولین تجربه من برای خرید ایفون هست   امروز...    100           1\n",
              "1                     خرید این محصول رو توصیه میکنم      84           1\n",
              "2  1 ساله این گوشی رو دارم   هیچ نقطه ضعفی ازش ند...     60           1\n",
              "3  سلام خدمت دوستان این گوشی از همه نظر عالی  کیف...     96           1\n",
              "4  سلام دوستانی که نگران شکستن صفحه نمایش هستند ا...     92           1"
            ]
          },
          "metadata": {
            "tags": []
          },
          "execution_count": 23
        }
      ]
    },
    {
      "cell_type": "code",
      "metadata": {
        "id": "8JYmJfXxaKwi",
        "colab_type": "code",
        "colab": {}
      },
      "source": [
        "def filter_digikala_data(df):\n",
        "    new_df = df.drop([\"Score\"], axis=1)\n",
        "    new_df = new_df[(new_df[\"Suggestion\"] == 1) | (new_df[\"Suggestion\"] == 2)]\n",
        "    return new_df"
      ],
      "execution_count": 24,
      "outputs": []
    },
    {
      "cell_type": "code",
      "metadata": {
        "id": "G81UUEFOh66d",
        "colab_type": "code",
        "colab": {}
      },
      "source": [
        "def embed_words(df):\n",
        "    corpus = df.Text.values\n",
        "    tokenizer = Tokenizer(num_words=5000)\n",
        "    tokenizer.fit_on_texts(corpus)\n",
        "\n",
        "    vocab_size = len(tokenizer.word_index) + 1\n",
        "    print(\"Vocab Size:\", vocab_size)\n",
        "\n",
        "    print(\"Text:\", corpus[0])\n",
        "    encoded_docs = tokenizer.texts_to_sequences(corpus)  # Change words to numbers\n",
        "    print(\"embedded:\", encoded_docs[0])\n",
        "    padded_sequence = pad_sequences(encoded_docs, maxlen=SENTENCE_MAX_LEN, padding=\"post\")  # padding 0 in the beginning of each sequence until each sequence has the same length as the longest sequence.\n",
        "    print(\"padded: \", padded_sequence[0])\n",
        "    print(padded_sequence.shape)\n",
        "    new_df = df.copy()\n",
        "    new_df[\"Text\"] = list(padded_sequence)\n",
        "    return new_df, vocab_size, padded_sequence"
      ],
      "execution_count": 25,
      "outputs": []
    },
    {
      "cell_type": "code",
      "metadata": {
        "id": "5NDzey0EX1DK",
        "colab_type": "code",
        "colab": {}
      },
      "source": [
        "def partition_data(df, test_percent=0.2, validation_percent=0.1, shuffle=True):\n",
        "    df = df[df[\"Text\"].notna()]\n",
        "    if shuffle:\n",
        "        df = df.sample(frac=1)\n",
        "    test, validate, train = np.split(df, [int(test_percent*len(df)), int((test_percent+validation_percent)*len(df))])\n",
        "    return train, validate, test"
      ],
      "execution_count": 26,
      "outputs": []
    },
    {
      "cell_type": "code",
      "metadata": {
        "id": "Q4pqUSDJSH5h",
        "colab_type": "code",
        "colab": {}
      },
      "source": [
        "from sklearn.utils import resample\n",
        "def balance_data(df, target_col, majority_value, minority_col):\n",
        "    df_majority = df[df[target_col]==majority_value]\n",
        "    df_minority = df[df[target_col]==minority_col]\n",
        "    \n",
        "    \n",
        "    # Upsample minority class\n",
        "    df_minority_upsampled = resample(df_minority, \n",
        "                                    replace=True,     # sample with replacement\n",
        "                                    n_samples=len(df_majority.index),    # to match majority class\n",
        "                                    random_state=42) # reproducible results\n",
        "\n",
        "    # Combine majority class with upsampled minority class\n",
        "    df_upsampled = pd.concat([df_majority, df_minority_upsampled])\n",
        "\n",
        "    # Display new class counts\n",
        "    # df_upsampled.Suggestion.value_counts()\n",
        "\n",
        "    return df_upsampled"
      ],
      "execution_count": 27,
      "outputs": []
    },
    {
      "cell_type": "code",
      "metadata": {
        "id": "HZjSKWa9awbA",
        "colab_type": "code",
        "colab": {
          "base_uri": "https://localhost:8080/",
          "height": 723
        },
        "outputId": "9021aa1a-afc5-427a-c5e3-a335706dceb4"
      },
      "source": [
        "filtered_data = filter_digikala_data(data)\n",
        "filtered_data, vocab_size, padded_sequence = embed_words(filtered_data)\n",
        "filtered_data.head()\n",
        "filtered_data.Suggestion.value_counts().plot(kind='bar', title='Count (target)');\n",
        "plt.show()\n",
        "print(filtered_data.Suggestion.value_counts()[2])\n",
        "filtered_data = balance_data(filtered_data, \"Suggestion\", 1, 2)\n",
        "filtered_data.Suggestion.value_counts().plot(kind='bar', title='Count (target)');"
      ],
      "execution_count": 28,
      "outputs": [
        {
          "output_type": "stream",
          "text": [
            "Vocab Size: 11218\n",
            "Text: این اولین تجربه من برای خرید ایفون هست   امروز ب دستم رسیده   به اسم طلایی هست ولی دراصل رزگلده  خیلی هم خوش رنگ هست  \n",
            "embedded: [4, 415, 434, 10, 12, 50, 3203, 16, 261, 283, 158, 706, 5, 1208, 2120, 16, 15, 11, 9, 328, 124, 16]\n",
            "padded:  [   4  415  434   10   12   50 3203   16  261  283  158  706    5 1208\n",
            " 2120   16   15   11    9  328  124   16    0    0    0    0    0    0\n",
            "    0    0    0    0    0    0    0    0    0    0    0    0    0    0\n",
            "    0    0    0    0    0    0    0    0    0    0    0    0    0    0\n",
            "    0    0    0    0    0    0    0    0    0    0    0    0    0    0]\n",
            "(2801, 70)\n"
          ],
          "name": "stdout"
        },
        {
          "output_type": "display_data",
          "data": {
            "image/png": "[encoded data removed]",
            "text/plain": [
              "<Figure size 432x288 with 1 Axes>"
            ]
          },
          "metadata": {
            "tags": [],
            "needs_background": "light"
          }
        },
        {
          "output_type": "stream",
          "text": [
            "419\n"
          ],
          "name": "stdout"
        },
        {
          "output_type": "display_data",
          "data": {
            "image/png": "[encoded data removed]",
            "text/plain": [
              "<Figure size 432x288 with 1 Axes>"
            ]
          },
          "metadata": {
            "tags": [],
            "needs_background": "light"
          }
        }
      ]
    },
    {
      "cell_type": "code",
      "metadata": {
        "id": "vvS2gd4dU1uJ",
        "colab_type": "code",
        "colab": {
          "base_uri": "https://localhost:8080/",
          "height": 261
        },
        "outputId": "9fefbdb9-8a35-4259-b20c-fcea3d9926dd"
      },
      "source": [
        "train_data, validation_data, test_data = partition_data(filtered_data, test_percent=0.2, validation_percent=0.01, shuffle=True)\n",
        "print(\"train:     \", train_data.shape)\n",
        "print(\"validation:\", validation_data.shape)\n",
        "print(\"test:      \", test_data.shape)\n",
        "train_data.head()"
      ],
      "execution_count": 29,
      "outputs": [
        {
          "output_type": "stream",
          "text": [
            "train:      (3764, 2)\n",
            "validation: (48, 2)\n",
            "test:       (952, 2)\n"
          ],
          "name": "stdout"
        },
        {
          "output_type": "execute_result",
          "data": {
            "text/html": [
              "<div>\n",
              "<style scoped>\n",
              "    .dataframe tbody tr th:only-of-type {\n",
              "        vertical-align: middle;\n",
              "    }\n",
              "\n",
              "    .dataframe tbody tr th {\n",
              "        vertical-align: top;\n",
              "    }\n",
              "\n",
              "    .dataframe thead th {\n",
              "        text-align: right;\n",
              "    }\n",
              "</style>\n",
              "<table border=\"1\" class=\"dataframe\">\n",
              "  <thead>\n",
              "    <tr style=\"text-align: right;\">\n",
              "      <th></th>\n",
              "      <th>Text</th>\n",
              "      <th>Suggestion</th>\n",
              "    </tr>\n",
              "  </thead>\n",
              "  <tbody>\n",
              "    <tr>\n",
              "      <th>416</th>\n",
              "      <td>[10, 4, 44, 51, 6, 273, 113, 75, 163, 1612, 13...</td>\n",
              "      <td>2</td>\n",
              "    </tr>\n",
              "    <tr>\n",
              "      <th>3226</th>\n",
              "      <td>[984, 8, 2297, 18, 11, 22, 26, 60, 20, 84, 702...</td>\n",
              "      <td>1</td>\n",
              "    </tr>\n",
              "    <tr>\n",
              "      <th>1598</th>\n",
              "      <td>[27, 98, 183, 0, 0, 0, 0, 0, 0, 0, 0, 0, 0, 0,...</td>\n",
              "      <td>1</td>\n",
              "    </tr>\n",
              "    <tr>\n",
              "      <th>60</th>\n",
              "      <td>[10, 72, 123, 26, 178, 3, 479, 280, 268, 53, 1...</td>\n",
              "      <td>2</td>\n",
              "    </tr>\n",
              "    <tr>\n",
              "      <th>172</th>\n",
              "      <td>[10, 209, 24, 44, 51, 370, 108, 83, 85, 90, 11...</td>\n",
              "      <td>2</td>\n",
              "    </tr>\n",
              "  </tbody>\n",
              "</table>\n",
              "</div>"
            ],
            "text/plain": [
              "                                                   Text  Suggestion\n",
              "416   [10, 4, 44, 51, 6, 273, 113, 75, 163, 1612, 13...           2\n",
              "3226  [984, 8, 2297, 18, 11, 22, 26, 60, 20, 84, 702...           1\n",
              "1598  [27, 98, 183, 0, 0, 0, 0, 0, 0, 0, 0, 0, 0, 0,...           1\n",
              "60    [10, 72, 123, 26, 178, 3, 479, 280, 268, 53, 1...           2\n",
              "172   [10, 209, 24, 44, 51, 370, 108, 83, 85, 90, 11...           2"
            ]
          },
          "metadata": {
            "tags": []
          },
          "execution_count": 29
        }
      ]
    },
    {
      "cell_type": "markdown",
      "metadata": {
        "id": "4XlOcNNJpW9c",
        "colab_type": "text"
      },
      "source": [
        "**Data is Ready**\n",
        "\n",
        "**Build Model**"
      ]
    },
    {
      "cell_type": "code",
      "metadata": {
        "id": "lK6znvtCXzxL",
        "colab_type": "code",
        "colab": {
          "base_uri": "https://localhost:8080/",
          "height": 366
        },
        "outputId": "25f870e4-83f5-4a84-8d8d-9d60b3250614"
      },
      "source": [
        "# Build the model\n",
        "import tensorflow as tf\n",
        "from tensorflow.keras.models import Sequential\n",
        "from tensorflow.keras.layers import LSTM,Dense, Dropout\n",
        "from tensorflow.keras.layers import SpatialDropout1D\n",
        "from tensorflow.keras.layers import Embedding\n",
        "\n",
        "model = Sequential()\n",
        "\n",
        "embedding_vector_length = 32\n",
        "model.add(Embedding(input_dim=vocab_size, output_dim=embedding_vector_length, input_length=SENTENCE_MAX_LEN))\n",
        "\n",
        "model.add(SpatialDropout1D(0.25))\n",
        "\n",
        "model.add(LSTM(50, dropout=0.5, recurrent_dropout=0.5))\n",
        "\n",
        "model.add(Dropout(0.2))\n",
        "\n",
        "model.add(Dense(1, activation='sigmoid'))\n",
        "# model.add(Dense(1, activation='relu'))\n",
        "\n",
        "model.compile(loss='binary_crossentropy',optimizer='adam', metrics=['accuracy'])\n",
        "\n",
        "print(model.summary())"
      ],
      "execution_count": 30,
      "outputs": [
        {
          "output_type": "stream",
          "text": [
            "Model: \"sequential\"\n",
            "_________________________________________________________________\n",
            "Layer (type)                 Output Shape              Param #   \n",
            "=================================================================\n",
            "embedding (Embedding)        (None, 70, 32)            358976    \n",
            "_________________________________________________________________\n",
            "spatial_dropout1d (SpatialDr (None, 70, 32)            0         \n",
            "_________________________________________________________________\n",
            "lstm (LSTM)                  (None, 50)                16600     \n",
            "_________________________________________________________________\n",
            "dropout (Dropout)            (None, 50)                0         \n",
            "_________________________________________________________________\n",
            "dense (Dense)                (None, 1)                 51        \n",
            "=================================================================\n",
            "Total params: 375,627\n",
            "Trainable params: 375,627\n",
            "Non-trainable params: 0\n",
            "_________________________________________________________________\n",
            "None\n"
          ],
          "name": "stdout"
        }
      ]
    },
    {
      "cell_type": "markdown",
      "metadata": {
        "id": "ZwDX_2VYwTyl",
        "colab_type": "text"
      },
      "source": [
        "**Train Model**"
      ]
    },
    {
      "cell_type": "code",
      "metadata": {
        "id": "d4M8RyJ3q5mE",
        "colab_type": "code",
        "colab": {
          "base_uri": "https://localhost:8080/",
          "height": 899
        },
        "outputId": "ce7a8365-0392-4956-e710-eb6939bac320"
      },
      "source": [
        "tf_train_x = np.asarray(train_data[\"Text\"].to_numpy().tolist())\n",
        "tf_train_y = train_data[\"Suggestion\"].factorize()[0]\n",
        "print(tf_train_x.shape)\n",
        "print(tf_train_x[0])\n",
        "print(tf_train_y.shape)\n",
        "print(tf_train_y[0])\n",
        "history = model.fit(tf_train_x, tf_train_y, validation_split=0.2, epochs=20, batch_size=32)\n",
        "# np.asarray(train_data[\"Text\"])\n",
        "# train_data[\"Text\"].values"
      ],
      "execution_count": 31,
      "outputs": [
        {
          "output_type": "stream",
          "text": [
            "(3764, 70)\n",
            "[  10    4   44   51    6  273  113   75  163 1612   13    0    0    0\n",
            "    0    0    0    0    0    0    0    0    0    0    0    0    0    0\n",
            "    0    0    0    0    0    0    0    0    0    0    0    0    0    0\n",
            "    0    0    0    0    0    0    0    0    0    0    0    0    0    0\n",
            "    0    0    0    0    0    0    0    0    0    0    0    0    0    0]\n",
            "(3764,)\n",
            "0\n",
            "Epoch 1/20\n",
            "95/95 [==============================] - 8s 88ms/step - loss: 0.6930 - accuracy: 0.5048 - val_loss: 0.6928 - val_accuracy: 0.4728\n",
            "Epoch 2/20\n",
            "95/95 [==============================] - 8s 85ms/step - loss: 0.6807 - accuracy: 0.5726 - val_loss: 0.6430 - val_accuracy: 0.6149\n",
            "Epoch 3/20\n",
            "95/95 [==============================] - 8s 84ms/step - loss: 0.5811 - accuracy: 0.6682 - val_loss: 0.5123 - val_accuracy: 0.7556\n",
            "Epoch 4/20\n",
            "95/95 [==============================] - 8s 85ms/step - loss: 0.4374 - accuracy: 0.8017 - val_loss: 0.3986 - val_accuracy: 0.8300\n",
            "Epoch 5/20\n",
            "95/95 [==============================] - 8s 85ms/step - loss: 0.3110 - accuracy: 0.8801 - val_loss: 0.3848 - val_accuracy: 0.8566\n",
            "Epoch 6/20\n",
            "95/95 [==============================] - 8s 85ms/step - loss: 0.2425 - accuracy: 0.9206 - val_loss: 0.3113 - val_accuracy: 0.8951\n",
            "Epoch 7/20\n",
            "95/95 [==============================] - 8s 85ms/step - loss: 0.1860 - accuracy: 0.9332 - val_loss: 0.3164 - val_accuracy: 0.8938\n",
            "Epoch 8/20\n",
            "95/95 [==============================] - 8s 85ms/step - loss: 0.1452 - accuracy: 0.9528 - val_loss: 0.3295 - val_accuracy: 0.8911\n",
            "Epoch 9/20\n",
            "95/95 [==============================] - 8s 85ms/step - loss: 0.1261 - accuracy: 0.9595 - val_loss: 0.3011 - val_accuracy: 0.8858\n",
            "Epoch 10/20\n",
            "95/95 [==============================] - 8s 86ms/step - loss: 0.1095 - accuracy: 0.9635 - val_loss: 0.3641 - val_accuracy: 0.8938\n",
            "Epoch 11/20\n",
            "95/95 [==============================] - 8s 85ms/step - loss: 0.1020 - accuracy: 0.9655 - val_loss: 0.3431 - val_accuracy: 0.8898\n",
            "Epoch 12/20\n",
            "95/95 [==============================] - 8s 85ms/step - loss: 0.0730 - accuracy: 0.9774 - val_loss: 0.3551 - val_accuracy: 0.9150\n",
            "Epoch 13/20\n",
            "95/95 [==============================] - 8s 85ms/step - loss: 0.0815 - accuracy: 0.9761 - val_loss: 0.3182 - val_accuracy: 0.9137\n",
            "Epoch 14/20\n",
            "95/95 [==============================] - 8s 81ms/step - loss: 0.0801 - accuracy: 0.9754 - val_loss: 0.4016 - val_accuracy: 0.9044\n",
            "Epoch 15/20\n",
            "95/95 [==============================] - 8s 84ms/step - loss: 0.0561 - accuracy: 0.9794 - val_loss: 0.4188 - val_accuracy: 0.8938\n",
            "Epoch 16/20\n",
            "95/95 [==============================] - 8s 85ms/step - loss: 0.0608 - accuracy: 0.9804 - val_loss: 0.3661 - val_accuracy: 0.9190\n",
            "Epoch 17/20\n",
            "95/95 [==============================] - 8s 84ms/step - loss: 0.0567 - accuracy: 0.9797 - val_loss: 0.3639 - val_accuracy: 0.9004\n",
            "Epoch 18/20\n",
            "95/95 [==============================] - 8s 84ms/step - loss: 0.0437 - accuracy: 0.9861 - val_loss: 0.2878 - val_accuracy: 0.9216\n",
            "Epoch 19/20\n",
            "95/95 [==============================] - 8s 85ms/step - loss: 0.0488 - accuracy: 0.9837 - val_loss: 0.3740 - val_accuracy: 0.9057\n",
            "Epoch 20/20\n",
            "95/95 [==============================] - 8s 85ms/step - loss: 0.0346 - accuracy: 0.9890 - val_loss: 0.3862 - val_accuracy: 0.9230\n"
          ],
          "name": "stdout"
        }
      ]
    },
    {
      "cell_type": "code",
      "metadata": {
        "id": "iQxXC0---ZLz",
        "colab_type": "code",
        "colab": {
          "base_uri": "https://localhost:8080/",
          "height": 591
        },
        "outputId": "b658ae15-10e6-406d-80a8-321894fe86d4"
      },
      "source": [
        "import matplotlib.pyplot as plt\n",
        "print(history)\n",
        "# summarize history for accuracy\n",
        "plt.plot(history.history['accuracy'])\n",
        "plt.plot(history.history['val_accuracy'])\n",
        "plt.title('model accuracy')\n",
        "plt.ylabel('accuracy')\n",
        "plt.xlabel('epoch')\n",
        "plt.legend(['train', 'validation'], loc='upper left')\n",
        "plt.show()\n",
        "# summarize history for loss\n",
        "plt.plot(history.history['loss'])\n",
        "plt.plot(history.history['val_loss'])\n",
        "plt.title('model loss')\n",
        "plt.ylabel('loss')\n",
        "plt.xlabel('epoch')\n",
        "plt.legend(['train', 'validation'], loc='upper left')\n",
        "plt.show()"
      ],
      "execution_count": 32,
      "outputs": [
        {
          "output_type": "stream",
          "text": [
            "<tensorflow.python.keras.callbacks.History object at 0x7f1ade78f390>\n"
          ],
          "name": "stdout"
        },
        {
          "output_type": "display_data",
          "data": {
            "image/png": "[encoded data removed]",
            "text/plain": [
              "<Figure size 432x288 with 1 Axes>"
            ]
          },
          "metadata": {
            "tags": [],
            "needs_background": "light"
          }
        },
        {
          "output_type": "display_data",
          "data": {
            "image/png": "[encoded data removed]",
            "text/plain": [
              "<Figure size 432x288 with 1 Axes>"
            ]
          },
          "metadata": {
            "tags": [],
            "needs_background": "light"
          }
        }
      ]
    },
    {
      "cell_type": "markdown",
      "metadata": {
        "id": "O5RqqV0588hE",
        "colab_type": "text"
      },
      "source": [
        "**Testing Model**"
      ]
    },
    {
      "cell_type": "code",
      "metadata": {
        "id": "bY2Tbp9QwgRr",
        "colab_type": "code",
        "colab": {
          "base_uri": "https://localhost:8080/",
          "height": 201
        },
        "outputId": "0d433fe6-47a3-4efa-bd29-577bf07f79d9"
      },
      "source": [
        "tf_test_x = np.asarray(test_data[\"Text\"].to_numpy().tolist())\n",
        "tf_test_y = test_data[\"Suggestion\"].factorize()[0]\n",
        "print(tf_test_x.shape)\n",
        "print(tf_test_y.shape)\n",
        "print(tf_test_x[5], tf_test_y[5])\n",
        "\n",
        "# print(model.predict(tf_test_x[0]))\n",
        "# for x in tf_test_x:\n",
        "#     print(np.average(model.predict(x)))\n",
        "\n",
        "\n",
        "print(\"Evaluating...\")\n",
        "model.evaluate(tf_test_x, tf_test_y)"
      ],
      "execution_count": 34,
      "outputs": [
        {
          "output_type": "stream",
          "text": [
            "(952, 70)\n",
            "(952,)\n",
            "[   4   44   51    6  795    3  119  240   37  113   11   38 1513    9\n",
            "  515   13    1    9  679    1    5  154 3433  134    3    4 1852   62\n",
            "   59   43   32 2211  541    1   59  354  607 1780   55    5   90   11\n",
            "   38  210  943   16   15   14    1  763   41   13    0    0    0    0\n",
            "    0    0    0    0    0    0    0    0    0    0    0    0    0    0] 1\n",
            "Evaluating...\n",
            "30/30 [==============================] - 0s 10ms/step - loss: 0.4973 - accuracy: 0.9086\n"
          ],
          "name": "stdout"
        },
        {
          "output_type": "execute_result",
          "data": {
            "text/plain": [
              "[0.4972725808620453, 0.9086134433746338]"
            ]
          },
          "metadata": {
            "tags": []
          },
          "execution_count": 34
        }
      ]
    },
    {
      "cell_type": "code",
      "metadata": {
        "id": "DTNOtkyPCGuu",
        "colab_type": "code",
        "colab": {}
      },
      "source": [
        ""
      ],
      "execution_count": 33,
      "outputs": []
    }
  ]
}