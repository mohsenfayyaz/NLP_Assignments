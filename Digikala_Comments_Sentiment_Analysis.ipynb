{
  "nbformat": 4,
  "nbformat_minor": 0,
  "metadata": {
    "colab": {
      "name": "Digikala_Comments_Sentiment_Analysis.ipynb",
      "provenance": [],
      "collapsed_sections": [],
      "toc_visible": true,
      "mount_file_id": "1MzL79j47m_RdlV5rAneX5-LHANqhkIhY",
      "authorship_tag": "ABX9TyPDYIHMzs6/ZDxE8IU+vIsF",
      "include_colab_link": true
    },
    "kernelspec": {
      "name": "python3",
      "display_name": "Python 3"
    },
    "accelerator": "TPU"
  },
  "cells": [
    {
      "cell_type": "markdown",
      "metadata": {
        "id": "view-in-github",
        "colab_type": "text"
      },
      "source": [
        "<a href=\"https://colab.research.google.com/github/mohsenfayyaz/NLP_Assignments/blob/master/Digikala_Comments_Sentiment_Analysis.ipynb\" target=\"_parent\"><img src=\"https://colab.research.google.com/assets/colab-badge.svg\" alt=\"Open In Colab\"/></a>"
      ]
    },
    {
      "cell_type": "code",
      "metadata": {
        "id": "7pRwyGM3TMMi",
        "colab_type": "code",
        "colab": {
          "base_uri": "https://localhost:8080/",
          "height": 35
        },
        "outputId": "2536218e-5d35-4db9-d78a-df4aae90de38"
      },
      "source": [
        "from google.colab import drive\n",
        "drive.mount('/content/drive')"
      ],
      "execution_count": null,
      "outputs": [
        {
          "output_type": "stream",
          "text": [
            "Drive already mounted at /content/drive; to attempt to forcibly remount, call drive.mount(\"/content/drive\", force_remount=True).\n"
          ],
          "name": "stdout"
        }
      ]
    },
    {
      "cell_type": "code",
      "metadata": {
        "id": "YST3-W1yrz-V",
        "colab_type": "code",
        "colab": {}
      },
      "source": [
        "SENTENCE_MAX_LEN = 300"
      ],
      "execution_count": null,
      "outputs": []
    },
    {
      "cell_type": "code",
      "metadata": {
        "id": "gPfDroLVUkLc",
        "colab_type": "code",
        "colab": {
          "base_uri": "https://localhost:8080/",
          "height": 225
        },
        "outputId": "afe94e48-051c-4bb0-d48d-d115faec063e"
      },
      "source": [
        "import pandas as pd\n",
        "import numpy as np\n",
        "import math as math\n",
        "from tensorflow.keras.preprocessing.text import Tokenizer\n",
        "from tensorflow.keras.preprocessing.sequence import pad_sequences\n",
        "\n",
        "data = pd.read_csv('/content/drive/My Drive/Colab Notebooks/NLP/datasets/Digikal_Data.csv')\n",
        "print(data.shape)\n",
        "data.head()"
      ],
      "execution_count": null,
      "outputs": [
        {
          "output_type": "stream",
          "text": [
            "(3261, 3)\n"
          ],
          "name": "stdout"
        },
        {
          "output_type": "execute_result",
          "data": {
            "text/html": [
              "<div>\n",
              "<style scoped>\n",
              "    .dataframe tbody tr th:only-of-type {\n",
              "        vertical-align: middle;\n",
              "    }\n",
              "\n",
              "    .dataframe tbody tr th {\n",
              "        vertical-align: top;\n",
              "    }\n",
              "\n",
              "    .dataframe thead th {\n",
              "        text-align: right;\n",
              "    }\n",
              "</style>\n",
              "<table border=\"1\" class=\"dataframe\">\n",
              "  <thead>\n",
              "    <tr style=\"text-align: right;\">\n",
              "      <th></th>\n",
              "      <th>Text</th>\n",
              "      <th>Score</th>\n",
              "      <th>Suggestion</th>\n",
              "    </tr>\n",
              "  </thead>\n",
              "  <tbody>\n",
              "    <tr>\n",
              "      <th>0</th>\n",
              "      <td>این اولین تجربه من برای خرید ایفون هست   امروز...</td>\n",
              "      <td>100</td>\n",
              "      <td>1</td>\n",
              "    </tr>\n",
              "    <tr>\n",
              "      <th>1</th>\n",
              "      <td>خرید این محصول رو توصیه میکنم</td>\n",
              "      <td>84</td>\n",
              "      <td>1</td>\n",
              "    </tr>\n",
              "    <tr>\n",
              "      <th>2</th>\n",
              "      <td>1 ساله این گوشی رو دارم   هیچ نقطه ضعفی ازش ند...</td>\n",
              "      <td>60</td>\n",
              "      <td>1</td>\n",
              "    </tr>\n",
              "    <tr>\n",
              "      <th>3</th>\n",
              "      <td>سلام خدمت دوستان این گوشی از همه نظر عالی  کیف...</td>\n",
              "      <td>96</td>\n",
              "      <td>1</td>\n",
              "    </tr>\n",
              "    <tr>\n",
              "      <th>4</th>\n",
              "      <td>سلام دوستانی که نگران شکستن صفحه نمایش هستند ا...</td>\n",
              "      <td>92</td>\n",
              "      <td>1</td>\n",
              "    </tr>\n",
              "  </tbody>\n",
              "</table>\n",
              "</div>"
            ],
            "text/plain": [
              "                                                Text  Score  Suggestion\n",
              "0  این اولین تجربه من برای خرید ایفون هست   امروز...    100           1\n",
              "1                     خرید این محصول رو توصیه میکنم      84           1\n",
              "2  1 ساله این گوشی رو دارم   هیچ نقطه ضعفی ازش ند...     60           1\n",
              "3  سلام خدمت دوستان این گوشی از همه نظر عالی  کیف...     96           1\n",
              "4  سلام دوستانی که نگران شکستن صفحه نمایش هستند ا...     92           1"
            ]
          },
          "metadata": {
            "tags": []
          },
          "execution_count": 57
        }
      ]
    },
    {
      "cell_type": "code",
      "metadata": {
        "id": "8JYmJfXxaKwi",
        "colab_type": "code",
        "colab": {}
      },
      "source": [
        "def filter_digikala_data(df):\n",
        "    new_df = df.drop([\"Score\"], axis=1)\n",
        "    new_df = new_df[(new_df[\"Suggestion\"] == 1) | (new_df[\"Suggestion\"] == 2)]\n",
        "    return new_df"
      ],
      "execution_count": null,
      "outputs": []
    },
    {
      "cell_type": "code",
      "metadata": {
        "id": "G81UUEFOh66d",
        "colab_type": "code",
        "colab": {}
      },
      "source": [
        "def embed_words(df):\n",
        "    corpus = df.Text.values\n",
        "    tokenizer = Tokenizer(num_words=5000)\n",
        "    tokenizer.fit_on_texts(corpus)\n",
        "\n",
        "    vocab_size = len(tokenizer.word_index) + 1\n",
        "    print(\"Vocab Size:\", vocab_size)\n",
        "\n",
        "    print(\"Text:\", corpus[0])\n",
        "    encoded_docs = tokenizer.texts_to_sequences(corpus)  # Change words to numbers\n",
        "    print(\"embedded:\", encoded_docs[0])\n",
        "    padded_sequence = pad_sequences(encoded_docs, maxlen=SENTENCE_MAX_LEN, padding=\"post\")  # padding 0 in the beginning of each sequence until each sequence has the same length as the longest sequence.\n",
        "    print(\"padded: \", padded_sequence[0])\n",
        "    print(padded_sequence.shape)\n",
        "    new_df = df.copy()\n",
        "    new_df[\"Text\"] = list(padded_sequence)\n",
        "    return new_df, vocab_size, padded_sequence"
      ],
      "execution_count": null,
      "outputs": []
    },
    {
      "cell_type": "code",
      "metadata": {
        "id": "5NDzey0EX1DK",
        "colab_type": "code",
        "colab": {}
      },
      "source": [
        "def partition_data(df, test_percent=0.2, validation_percent=0.1, shuffle=True):\n",
        "    df = df[df[\"Text\"].notna()]\n",
        "    if shuffle:\n",
        "        df = df.sample(frac=1)\n",
        "    test, validate, train = np.split(df, [int(test_percent*len(df)), int((test_percent+validation_percent)*len(df))])\n",
        "    return train, validate, test"
      ],
      "execution_count": null,
      "outputs": []
    },
    {
      "cell_type": "code",
      "metadata": {
        "id": "HZjSKWa9awbA",
        "colab_type": "code",
        "colab": {
          "base_uri": "https://localhost:8080/",
          "height": 684
        },
        "outputId": "76ffb73f-37e6-4b88-bad8-a246efd4bd1e"
      },
      "source": [
        "filtered_data = filter_digikala_data(data)\n",
        "filtered_data, vocab_size, padded_sequence = embed_words(filtered_data)\n",
        "filtered_data.head()"
      ],
      "execution_count": null,
      "outputs": [
        {
          "output_type": "stream",
          "text": [
            "Vocab Size: 11218\n",
            "Text: این اولین تجربه من برای خرید ایفون هست   امروز ب دستم رسیده   به اسم طلایی هست ولی دراصل رزگلده  خیلی هم خوش رنگ هست  \n",
            "embedded: [4, 415, 434, 10, 12, 50, 3203, 16, 261, 283, 158, 706, 5, 1208, 2120, 16, 15, 11, 9, 328, 124, 16]\n",
            "padded:  [   4  415  434   10   12   50 3203   16  261  283  158  706    5 1208\n",
            " 2120   16   15   11    9  328  124   16    0    0    0    0    0    0\n",
            "    0    0    0    0    0    0    0    0    0    0    0    0    0    0\n",
            "    0    0    0    0    0    0    0    0    0    0    0    0    0    0\n",
            "    0    0    0    0    0    0    0    0    0    0    0    0    0    0\n",
            "    0    0    0    0    0    0    0    0    0    0    0    0    0    0\n",
            "    0    0    0    0    0    0    0    0    0    0    0    0    0    0\n",
            "    0    0    0    0    0    0    0    0    0    0    0    0    0    0\n",
            "    0    0    0    0    0    0    0    0    0    0    0    0    0    0\n",
            "    0    0    0    0    0    0    0    0    0    0    0    0    0    0\n",
            "    0    0    0    0    0    0    0    0    0    0    0    0    0    0\n",
            "    0    0    0    0    0    0    0    0    0    0    0    0    0    0\n",
            "    0    0    0    0    0    0    0    0    0    0    0    0    0    0\n",
            "    0    0    0    0    0    0    0    0    0    0    0    0    0    0\n",
            "    0    0    0    0    0    0    0    0    0    0    0    0    0    0\n",
            "    0    0    0    0    0    0    0    0    0    0    0    0    0    0\n",
            "    0    0    0    0    0    0    0    0    0    0    0    0    0    0\n",
            "    0    0    0    0    0    0    0    0    0    0    0    0    0    0\n",
            "    0    0    0    0    0    0    0    0    0    0    0    0    0    0\n",
            "    0    0    0    0    0    0    0    0    0    0    0    0    0    0\n",
            "    0    0    0    0    0    0    0    0    0    0    0    0    0    0\n",
            "    0    0    0    0    0    0]\n",
            "(2801, 300)\n"
          ],
          "name": "stdout"
        },
        {
          "output_type": "execute_result",
          "data": {
            "text/html": [
              "<div>\n",
              "<style scoped>\n",
              "    .dataframe tbody tr th:only-of-type {\n",
              "        vertical-align: middle;\n",
              "    }\n",
              "\n",
              "    .dataframe tbody tr th {\n",
              "        vertical-align: top;\n",
              "    }\n",
              "\n",
              "    .dataframe thead th {\n",
              "        text-align: right;\n",
              "    }\n",
              "</style>\n",
              "<table border=\"1\" class=\"dataframe\">\n",
              "  <thead>\n",
              "    <tr style=\"text-align: right;\">\n",
              "      <th></th>\n",
              "      <th>Text</th>\n",
              "      <th>Suggestion</th>\n",
              "    </tr>\n",
              "  </thead>\n",
              "  <tbody>\n",
              "    <tr>\n",
              "      <th>0</th>\n",
              "      <td>[4, 415, 434, 10, 12, 50, 3203, 16, 261, 283, ...</td>\n",
              "      <td>1</td>\n",
              "    </tr>\n",
              "    <tr>\n",
              "      <th>1</th>\n",
              "      <td>[50, 4, 76, 6, 348, 43, 0, 0, 0, 0, 0, 0, 0, 0...</td>\n",
              "      <td>1</td>\n",
              "    </tr>\n",
              "    <tr>\n",
              "      <th>2</th>\n",
              "      <td>[212, 404, 4, 101, 6, 114, 95, 405, 1262, 67, ...</td>\n",
              "      <td>1</td>\n",
              "    </tr>\n",
              "    <tr>\n",
              "      <th>3</th>\n",
              "      <td>[74, 642, 107, 4, 101, 3, 71, 52, 35, 14, 100,...</td>\n",
              "      <td>1</td>\n",
              "    </tr>\n",
              "    <tr>\n",
              "      <th>4</th>\n",
              "      <td>[74, 439, 2, 808, 3204, 75, 163, 408, 4, 6, 2,...</td>\n",
              "      <td>1</td>\n",
              "    </tr>\n",
              "  </tbody>\n",
              "</table>\n",
              "</div>"
            ],
            "text/plain": [
              "                                                Text  Suggestion\n",
              "0  [4, 415, 434, 10, 12, 50, 3203, 16, 261, 283, ...           1\n",
              "1  [50, 4, 76, 6, 348, 43, 0, 0, 0, 0, 0, 0, 0, 0...           1\n",
              "2  [212, 404, 4, 101, 6, 114, 95, 405, 1262, 67, ...           1\n",
              "3  [74, 642, 107, 4, 101, 3, 71, 52, 35, 14, 100,...           1\n",
              "4  [74, 439, 2, 808, 3204, 75, 163, 408, 4, 6, 2,...           1"
            ]
          },
          "metadata": {
            "tags": []
          },
          "execution_count": 61
        }
      ]
    },
    {
      "cell_type": "code",
      "metadata": {
        "id": "vvS2gd4dU1uJ",
        "colab_type": "code",
        "colab": {
          "base_uri": "https://localhost:8080/",
          "height": 261
        },
        "outputId": "71200206-6c86-435f-d265-5a0341a8631d"
      },
      "source": [
        "train_data, validation_data, test_data = partition_data(filtered_data, test_percent=0.2, validation_percent=0.01, shuffle=True)\n",
        "print(\"train:     \", train_data.shape)\n",
        "print(\"validation:\", validation_data.shape)\n",
        "print(\"test:      \", test_data.shape)\n",
        "train_data.head()"
      ],
      "execution_count": null,
      "outputs": [
        {
          "output_type": "stream",
          "text": [
            "train:      (2213, 2)\n",
            "validation: (28, 2)\n",
            "test:       (560, 2)\n"
          ],
          "name": "stdout"
        },
        {
          "output_type": "execute_result",
          "data": {
            "text/html": [
              "<div>\n",
              "<style scoped>\n",
              "    .dataframe tbody tr th:only-of-type {\n",
              "        vertical-align: middle;\n",
              "    }\n",
              "\n",
              "    .dataframe tbody tr th {\n",
              "        vertical-align: top;\n",
              "    }\n",
              "\n",
              "    .dataframe thead th {\n",
              "        text-align: right;\n",
              "    }\n",
              "</style>\n",
              "<table border=\"1\" class=\"dataframe\">\n",
              "  <thead>\n",
              "    <tr style=\"text-align: right;\">\n",
              "      <th></th>\n",
              "      <th>Text</th>\n",
              "      <th>Suggestion</th>\n",
              "    </tr>\n",
              "  </thead>\n",
              "  <tbody>\n",
              "    <tr>\n",
              "      <th>850</th>\n",
              "      <td>[74, 10, 4, 46, 6, 3, 540, 24, 90, 55, 5, 30, ...</td>\n",
              "      <td>1</td>\n",
              "    </tr>\n",
              "    <tr>\n",
              "      <th>2049</th>\n",
              "      <td>[55, 5, 279, 54, 2, 19, 753, 263, 108, 47, 726...</td>\n",
              "      <td>1</td>\n",
              "    </tr>\n",
              "    <tr>\n",
              "      <th>1584</th>\n",
              "      <td>[212, 656, 2, 5, 158, 706, 1034, 27, 124, 805,...</td>\n",
              "      <td>1</td>\n",
              "    </tr>\n",
              "    <tr>\n",
              "      <th>1200</th>\n",
              "      <td>[4, 1205, 6, 325, 15, 61, 3, 69, 166, 278, 190...</td>\n",
              "      <td>2</td>\n",
              "    </tr>\n",
              "    <tr>\n",
              "      <th>226</th>\n",
              "      <td>[74, 33, 3388, 702, 402, 358, 22, 345, 226, 11...</td>\n",
              "      <td>1</td>\n",
              "    </tr>\n",
              "  </tbody>\n",
              "</table>\n",
              "</div>"
            ],
            "text/plain": [
              "                                                   Text  Suggestion\n",
              "850   [74, 10, 4, 46, 6, 3, 540, 24, 90, 55, 5, 30, ...           1\n",
              "2049  [55, 5, 279, 54, 2, 19, 753, 263, 108, 47, 726...           1\n",
              "1584  [212, 656, 2, 5, 158, 706, 1034, 27, 124, 805,...           1\n",
              "1200  [4, 1205, 6, 325, 15, 61, 3, 69, 166, 278, 190...           2\n",
              "226   [74, 33, 3388, 702, 402, 358, 22, 345, 226, 11...           1"
            ]
          },
          "metadata": {
            "tags": []
          },
          "execution_count": 62
        }
      ]
    },
    {
      "cell_type": "markdown",
      "metadata": {
        "id": "4XlOcNNJpW9c",
        "colab_type": "text"
      },
      "source": [
        "**Data is Ready**\n",
        "\n",
        "**Build Model**"
      ]
    },
    {
      "cell_type": "code",
      "metadata": {
        "id": "lK6znvtCXzxL",
        "colab_type": "code",
        "colab": {
          "base_uri": "https://localhost:8080/",
          "height": 366
        },
        "outputId": "da79779b-b348-4a90-fc42-4a8666e01761"
      },
      "source": [
        "# Build the model\n",
        "import tensorflow as tf\n",
        "from tensorflow.keras.models import Sequential\n",
        "from tensorflow.keras.layers import LSTM,Dense, Dropout\n",
        "from tensorflow.keras.layers import SpatialDropout1D\n",
        "from tensorflow.keras.layers import Embedding\n",
        "\n",
        "model = Sequential()\n",
        "\n",
        "embedding_vector_length = 32\n",
        "model.add(Embedding(input_dim=vocab_size, output_dim=embedding_vector_length, input_length=SENTENCE_MAX_LEN))\n",
        "\n",
        "model.add(SpatialDropout1D(0.25))\n",
        "\n",
        "model.add(LSTM(50, dropout=0.5, recurrent_dropout=0.5))\n",
        "\n",
        "model.add(Dropout(0.2))\n",
        "\n",
        "model.add(Dense(1, activation='sigmoid'))\n",
        "# model.add(Dense(1, activation='relu'))\n",
        "\n",
        "model.compile(loss='binary_crossentropy',optimizer='adam', metrics=['accuracy'])\n",
        "\n",
        "print(model.summary())"
      ],
      "execution_count": null,
      "outputs": [
        {
          "output_type": "stream",
          "text": [
            "Model: \"sequential_3\"\n",
            "_________________________________________________________________\n",
            "Layer (type)                 Output Shape              Param #   \n",
            "=================================================================\n",
            "embedding_3 (Embedding)      (None, 300, 32)           358976    \n",
            "_________________________________________________________________\n",
            "spatial_dropout1d_3 (Spatial (None, 300, 32)           0         \n",
            "_________________________________________________________________\n",
            "lstm_3 (LSTM)                (None, 50)                16600     \n",
            "_________________________________________________________________\n",
            "dropout_3 (Dropout)          (None, 50)                0         \n",
            "_________________________________________________________________\n",
            "dense_3 (Dense)              (None, 1)                 51        \n",
            "=================================================================\n",
            "Total params: 375,627\n",
            "Trainable params: 375,627\n",
            "Non-trainable params: 0\n",
            "_________________________________________________________________\n",
            "None\n"
          ],
          "name": "stdout"
        }
      ]
    },
    {
      "cell_type": "markdown",
      "metadata": {
        "id": "ZwDX_2VYwTyl",
        "colab_type": "text"
      },
      "source": [
        "**Train Model**"
      ]
    },
    {
      "cell_type": "code",
      "metadata": {
        "id": "d4M8RyJ3q5mE",
        "colab_type": "code",
        "colab": {
          "base_uri": "https://localhost:8080/",
          "height": 623
        },
        "outputId": "7a91e70e-1234-4e15-f34c-3c91254b012d"
      },
      "source": [
        "tf_train_x = np.asarray(train_data[\"Text\"].to_numpy().tolist())\n",
        "tf_train_y = train_data[\"Suggestion\"].factorize()[0]\n",
        "print(tf_train_x.shape)\n",
        "print(tf_train_x[0])\n",
        "print(tf_train_y.shape)\n",
        "print(tf_train_y[0])\n",
        "history = model.fit(tf_train_x, tf_train_y, validation_split=0.2, epochs=4, batch_size=32)\n",
        "# np.asarray(train_data[\"Text\"])\n",
        "# train_data[\"Text\"].values"
      ],
      "execution_count": null,
      "outputs": [
        {
          "output_type": "stream",
          "text": [
            "(2213, 300)\n",
            "[  74   10    4   46    6    3  540   24   90   55    5   30   37 1611\n",
            "   26    4   46 4790  227 4791   16    2  294  512  371 2075 4792 1161\n",
            "   21   14 1384   38 2058  301 4793   41 1517   40 4794    2 4795  204\n",
            "  140  214  351  143  860   13 4796  586  112  108   60 3511   41    2\n",
            "   30   37 1410   11 1056    5  709   16 4797   30   37    0    0    0\n",
            "    0    0    0    0    0    0    0    0    0    0    0    0    0    0\n",
            "    0    0    0    0    0    0    0    0    0    0    0    0    0    0\n",
            "    0    0    0    0    0    0    0    0    0    0    0    0    0    0\n",
            "    0    0    0    0    0    0    0    0    0    0    0    0    0    0\n",
            "    0    0    0    0    0    0    0    0    0    0    0    0    0    0\n",
            "    0    0    0    0    0    0    0    0    0    0    0    0    0    0\n",
            "    0    0    0    0    0    0    0    0    0    0    0    0    0    0\n",
            "    0    0    0    0    0    0    0    0    0    0    0    0    0    0\n",
            "    0    0    0    0    0    0    0    0    0    0    0    0    0    0\n",
            "    0    0    0    0    0    0    0    0    0    0    0    0    0    0\n",
            "    0    0    0    0    0    0    0    0    0    0    0    0    0    0\n",
            "    0    0    0    0    0    0    0    0    0    0    0    0    0    0\n",
            "    0    0    0    0    0    0    0    0    0    0    0    0    0    0\n",
            "    0    0    0    0    0    0    0    0    0    0    0    0    0    0\n",
            "    0    0    0    0    0    0    0    0    0    0    0    0    0    0\n",
            "    0    0    0    0    0    0    0    0    0    0    0    0    0    0\n",
            "    0    0    0    0    0    0]\n",
            "(2213,)\n",
            "0\n",
            "Epoch 1/4\n",
            "56/56 [==============================] - 17s 298ms/step - loss: 0.4765 - accuracy: 0.8565 - val_loss: 0.4367 - val_accuracy: 0.8442\n",
            "Epoch 2/4\n",
            "56/56 [==============================] - 16s 293ms/step - loss: 0.4184 - accuracy: 0.8565 - val_loss: 0.4330 - val_accuracy: 0.8442\n",
            "Epoch 3/4\n",
            "56/56 [==============================] - 16s 293ms/step - loss: 0.4137 - accuracy: 0.8565 - val_loss: 0.4421 - val_accuracy: 0.8442\n",
            "Epoch 4/4\n",
            "56/56 [==============================] - 16s 292ms/step - loss: 0.4173 - accuracy: 0.8565 - val_loss: 0.4381 - val_accuracy: 0.8442\n"
          ],
          "name": "stdout"
        }
      ]
    },
    {
      "cell_type": "code",
      "metadata": {
        "id": "iQxXC0---ZLz",
        "colab_type": "code",
        "colab": {
          "base_uri": "https://localhost:8080/",
          "height": 591
        },
        "outputId": "914b4a54-eeeb-47cd-bcff-58aed3704a06"
      },
      "source": [
        "import matplotlib.pyplot as plt\n",
        "print(history)\n",
        "# summarize history for accuracy\n",
        "plt.plot(history.history['accuracy'])\n",
        "plt.plot(history.history['val_accuracy'])\n",
        "plt.title('model accuracy')\n",
        "plt.ylabel('accuracy')\n",
        "plt.xlabel('epoch')\n",
        "plt.legend(['train', 'test'], loc='upper left')\n",
        "plt.show()\n",
        "# summarize history for loss\n",
        "plt.plot(history.history['loss'])\n",
        "plt.plot(history.history['val_loss'])\n",
        "plt.title('model loss')\n",
        "plt.ylabel('loss')\n",
        "plt.xlabel('epoch')\n",
        "plt.legend(['train', 'test'], loc='upper left')\n",
        "plt.show()"
      ],
      "execution_count": null,
      "outputs": [
        {
          "output_type": "stream",
          "text": [
            "<tensorflow.python.keras.callbacks.History object at 0x7fefa27df550>\n"
          ],
          "name": "stdout"
        },
        {
          "output_type": "display_data",
          "data": {
            "image/png": "[encoded data removed]",
            "text/plain": [
              "<Figure size 432x288 with 1 Axes>"
            ]
          },
          "metadata": {
            "tags": [],
            "needs_background": "light"
          }
        },
        {
          "output_type": "display_data",
          "data": {
            "image/png": "[encoded data removed]",
            "text/plain": [
              "<Figure size 432x288 with 1 Axes>"
            ]
          },
          "metadata": {
            "tags": [],
            "needs_background": "light"
          }
        }
      ]
    },
    {
      "cell_type": "markdown",
      "metadata": {
        "id": "O5RqqV0588hE",
        "colab_type": "text"
      },
      "source": [
        "**Testing Model**"
      ]
    },
    {
      "cell_type": "code",
      "metadata": {
        "id": "bY2Tbp9QwgRr",
        "colab_type": "code",
        "colab": {
          "base_uri": "https://localhost:8080/",
          "height": 513
        },
        "outputId": "3b96f577-113b-4e0c-ef9e-b566d2dd39cf"
      },
      "source": [
        "tf_test_x = np.asarray(test_data[\"Text\"].to_numpy().tolist())\n",
        "tf_test_y = test_data[\"Suggestion\"].factorize()[0]\n",
        "print(tf_test_x.shape)\n",
        "print(tf_test_y.shape)\n",
        "print(tf_test_x[5], tf_test_y[5])\n",
        "np.average(model.predict(tf_test_x[5]))\n",
        "\n",
        "print(\"Evaluating...\")\n",
        "model.evaluate(tf_test_x, tf_test_y)"
      ],
      "execution_count": null,
      "outputs": [
        {
          "output_type": "stream",
          "text": [
            "(560, 300)\n",
            "(560,)\n",
            "[ 885  343    3   83  420   48  334 2440    3  350 1134    1  652 2076\n",
            " 2641   37    1  117    3  764 3188 1037    1 1416 1405  973    8   50\n",
            " 1524  379   83 2932   67  178  791  332  178    1   47  154    8  151\n",
            "    4   76   48  655   91   23   59  253  267  480    1  261    5  158\n",
            "  166 1389    7  540  452    8   28  248   26 1340  423    1  392    1\n",
            " 2255 1178   55    5 3615    2  852   28  457  224  134   16 2002   82\n",
            "  646   58  231 2113   38 1259 3164    2   23  218   19 3339   40  910\n",
            "   16  181 2663  839 3451    2   57 1259  919    7  210  495  598 2600\n",
            "   80 3067  143   13    1  665  297 2473   58  788   17 1439   13    2\n",
            "   11   22    6 3097  768  407   45    7 1012 2376  321   34   45    1\n",
            " 2827  444   23 1011    1    8  602   48  117   12  427    2  606   50\n",
            "    4   76    1    8   70    3 2641   37    6   13 1070   25    6    8\n",
            " 1371  779  221  261    4   76    5  158  166    1   23   59  253  267\n",
            "  216  324   25    0    0    0    0    0    0    0    0    0    0    0\n",
            "    0    0    0    0    0    0    0    0    0    0    0    0    0    0\n",
            "    0    0    0    0    0    0    0    0    0    0    0    0    0    0\n",
            "    0    0    0    0    0    0    0    0    0    0    0    0    0    0\n",
            "    0    0    0    0    0    0    0    0    0    0    0    0    0    0\n",
            "    0    0    0    0    0    0    0    0    0    0    0    0    0    0\n",
            "    0    0    0    0    0    0    0    0    0    0    0    0    0    0\n",
            "    0    0    0    0    0    0    0    0    0    0    0    0    0    0\n",
            "    0    0    0    0    0    0] 0\n",
            "Evaluating...\n",
            "18/18 [==============================] - 1s 30ms/step - loss: 0.4591 - accuracy: 0.8339\n"
          ],
          "name": "stdout"
        },
        {
          "output_type": "execute_result",
          "data": {
            "text/plain": [
              "[0.4591434895992279, 0.8339285850524902]"
            ]
          },
          "metadata": {
            "tags": []
          },
          "execution_count": 67
        }
      ]
    },
    {
      "cell_type": "code",
      "metadata": {
        "id": "PzO-_MEx9aCw",
        "colab_type": "code",
        "colab": {}
      },
      "source": [
        ""
      ],
      "execution_count": null,
      "outputs": []
    }
  ]
}